{
  "cells": [
    {
      "cell_type": "markdown",
      "metadata": {
        "id": "ZLQS0KLMycmb"
      },
      "source": [
        "## **PRACTICAL SESSION 1** — Deep Learning for predictive maintenance"
      ]
    },
    {
      "cell_type": "markdown",
      "metadata": {
        "id": "3mjNAfgj4K1_"
      },
      "source": [
        "The dataset used is the **AI4I 2020** Predictive Maintenance Dataset, which contains 10,000 instances of industrial sensor data. Each instance represents the operating condition of a machine and is associated with a label indicating whether a failure has occurred and, if so, what type of failure it is.\n",
        "\n",
        "The 5 possible labels are:\n",
        "\n",
        "\n",
        "\n",
        "*   **TWF**: Tool Wear Failure\n",
        "*   **HDF**: Heat Dissipation Failure\n",
        "*   **PWF**: Power Failure\n",
        "*   **OSF**: Overstrain Failure\n",
        "*   **RNF**: Random Failure\n",
        "\n",
        "\n",
        "The data is available on eCAMPUS as CSV file called: \"ai4i2020.csv\"\n",
        "\n"
      ]
    },
    {
      "cell_type": "markdown",
      "metadata": {
        "id": "4_LBMVsgRI9W"
      },
      "source": [
        "## **PRACTICAL SESSION Goal** — Ceate a deep leanring model allowing to realize a predictive maintenance mission"
      ]
    },
    {
      "cell_type": "markdown",
      "metadata": {
        "id": "wt7L0p4MbIIw"
      },
      "source": [
        "## **1 - Analysis of the dataset**\n",
        "\n"
      ]
    },
    {
      "cell_type": "markdown",
      "metadata": {
        "id": "0JFIZ6mtRapt"
      },
      "source": [
        "All libraries used ***SHOULD BE PLACED*** in the code cell below"
      ]
    },
    {
      "cell_type": "code",
      "execution_count": 2,
      "metadata": {
        "id": "UQp7FGSb5Vlv"
      },
      "outputs": [],
      "source": [
        "import sys, os, array, time\n",
        "import numpy as np\n",
        "import matplotlib.pyplot as plt\n",
        "import IPython\n",
        "\n",
        "import tensorflow as tf\n",
        "from tensorflow import keras\n",
        "from tensorflow.keras import layers, models\n",
        "\n",
        "from sklearn.model_selection import train_test_split\n",
        "from sklearn.metrics import classification_report\n",
        "from sklearn.metrics import confusion_matrix, ConfusionMatrixDisplay"
      ]
    },
    {
      "cell_type": "markdown",
      "metadata": {
        "id": "eFRcS74MDeSf"
      },
      "source": [
        "**QUESTION:** Load dataset and display some lines of the csv file."
      ]
    },
    {
      "cell_type": "code",
      "execution_count": 3,
      "metadata": {
        "id": "9l044FZ_5-fN"
      },
      "outputs": [
        {
          "name": "stdout",
          "output_type": "stream",
          "text": [
            "['UDI', 'Product ID', 'Type', 'Air temperature [K]', 'Process temperature [K]', 'Rotational speed [rpm]', 'Torque [Nm]', 'Tool wear [min]', 'Machine failure', 'TWF', 'HDF', 'PWF', 'OSF', 'RNF']\n",
            "1,M14860,M,298.1,308.6,1551,42.8,0,0,0,0,0,0,0\n",
            "\n",
            "100,L47279,L,298.8,308.8,1523,44.4,55,0,0,0,0,0,0\n",
            "\n",
            "10000,M24859,M,299.0,308.7,1500,40.2,30,0,0,0,0,0,0\n",
            "\n"
          ]
        }
      ],
      "source": [
        "Dataset = open(\"ai4i2020.csv\", \"r\").readlines()\n",
        "Data_names = Dataset.pop(0).split(\",\")\n",
        "Data_names[0] = \"UDI\"\n",
        "Data_names[-1] = \"RNF\"\n",
        "\n",
        "print(Data_names)\n",
        "print(Dataset[0])\n",
        "print(Dataset[99])\n",
        "print(Dataset[9999])"
      ]
    },
    {
      "cell_type": "markdown",
      "metadata": {
        "id": "joQOXoqaD8JA"
      },
      "source": [
        "**QUESTION:** Display the distribution of machine failures and non-failures with a bar graph."
      ]
    },
    {
      "cell_type": "code",
      "execution_count": 4,
      "metadata": {
        "id": "r3Q1l9JoMs7m"
      },
      "outputs": [
        {
          "data": {
            "image/png": "[encoded data removed]",
            "text/plain": [
              "<Figure size 640x480 with 1 Axes>"
            ]
          },
          "metadata": {},
          "output_type": "display_data"
        },
        {
          "name": "stdout",
          "output_type": "stream",
          "text": [
            "Number of failures :  339\n"
          ]
        }
      ],
      "source": [
        "usable_dataset = []\n",
        "State = [\"Failure\", \"Working\"]\n",
        "Number_Failure = [0,0]\n",
        "\n",
        "for l in Dataset :\n",
        "    A = l.split(\",\")\n",
        "    B = A[-1].split(\"\\n\")\n",
        "    A.pop(-1)\n",
        "    A.append(B[0])\n",
        "    usable_dataset.append(A)\n",
        "    if (A[8] == \"0\") :\n",
        "        Number_Failure[1] += 1\n",
        "    else :\n",
        "        Number_Failure[0] += 1\n",
        "\n",
        "plt.figure(1)\n",
        "plt.bar(State, Number_Failure)\n",
        "plt.title('Distribution of machine status')\n",
        "plt.xlabel('Status')\n",
        "plt.ylabel('Number of machines')\n",
        "plt.show()\n",
        "\n",
        "print(\"Number of failures : \", Number_Failure[0])"
      ]
    },
    {
      "cell_type": "markdown",
      "metadata": {
        "id": "vCNIqXVyEkrR"
      },
      "source": [
        "**ANALYSIS QUESTION:** What do you observe?"
      ]
    },
    {
      "cell_type": "markdown",
      "metadata": {
        "id": "6BMGtlIWE-C0"
      },
      "source": [
        "_There are few exemples of failures in the dataset, and a lot of working machines_"
      ]
    },
    {
      "cell_type": "markdown",
      "metadata": {
        "id": "huU5I4x8SzlN"
      },
      "source": [
        "**ANALYSIS QUESTION:** What will be the consequence of this phenomenon on the model's learning?"
      ]
    },
    {
      "cell_type": "markdown",
      "metadata": {
        "id": "JHmYROP0TLIS"
      },
      "source": [
        "_The model will \"forget\" about the failed machines and learn the parameters that implie that a machine is working_"
      ]
    },
    {
      "cell_type": "markdown",
      "metadata": {
        "id": "0s-mzCCsSasl"
      },
      "source": [
        "**QUESTION:** Create a bar chart showing the distribution of different failure types (TWF, HDF, PWF, OSF, RNF). Display the exact values above each bar in the chart.\""
      ]
    },
    {
      "cell_type": "code",
      "execution_count": 5,
      "metadata": {
        "id": "nQyJCfamMdJN"
      },
      "outputs": [
        {
          "data": {
            "image/png": "[encoded data removed]",
            "text/plain": [
              "<Figure size 640x480 with 1 Axes>"
            ]
          },
          "metadata": {},
          "output_type": "display_data"
        }
      ],
      "source": [
        "failure_type = [\"TWF\", \"HDF\", \"PWF\", \"OSF\", \"RNF\"]\n",
        "failure_type_nb = [0, 0, 0, 0, 0]\n",
        "\n",
        "for l in usable_dataset :\n",
        "    if (l[9] == \"1\") :\n",
        "        failure_type_nb[0] += 1\n",
        "    if (l[10] == \"1\") :\n",
        "        failure_type_nb[1] += 1\n",
        "    if (l[11] == \"1\") :\n",
        "        failure_type_nb[2] += 1\n",
        "    if (l[12] == \"1\") :\n",
        "        failure_type_nb[3] += 1\n",
        "    if (l[13] == \"1\") :\n",
        "        failure_type_nb[4] += 1\n",
        "\n",
        "plt.figure(2)\n",
        "plt.bar(failure_type, failure_type_nb)\n",
        "plt.title('Distribution of machine failure types')\n",
        "plt.xlabel('Failure type')\n",
        "plt.ylabel('Number of failures')\n",
        "for i, value in enumerate(failure_type_nb):\n",
        "    plt.text(i, value+1, str(value), ha='center')\n",
        "plt.show()"
      ]
    },
    {
      "cell_type": "markdown",
      "metadata": {
        "id": "NXyHa73yU8g_"
      },
      "source": [
        "**ANALYSIS QUESTION:** What do you observe?"
      ]
    },
    {
      "cell_type": "markdown",
      "metadata": {
        "id": "WRDFE_dsVBBU"
      },
      "source": [
        "_\"We can see that failures are mainly due to temperature, power or overstress\"_"
      ]
    },
    {
      "cell_type": "markdown",
      "metadata": {
        "id": "cvaO2bEIMxLd"
      },
      "source": [
        "**QUESTION:** Create a bar chart showing the distribution of failure types (TWF, HDF, PWF, OSF, RNF) among machines that experienced a failure (Machine failure == 1). Additionally, add a \"No Specific Failure\" category to count cases where a machine failed but no specific failure type was recorded. Display the exact values above each bar in the chart.\""
      ]
    },
    {
      "cell_type": "code",
      "execution_count": 6,
      "metadata": {
        "id": "e97htGyyMsle"
      },
      "outputs": [
        {
          "data": {
            "image/png": "[encoded data removed]",
            "text/plain": [
              "<Figure size 640x480 with 1 Axes>"
            ]
          },
          "metadata": {},
          "output_type": "display_data"
        }
      ],
      "source": [
        "failure_type2 = [\"TWF\", \"HDF\", \"PWF\", \"OSF\", \"RNF\", \"NSF\"]\n",
        "failure_type2_nb = [0, 0, 0, 0, 0, 0]\n",
        "has_failed = 0\n",
        "\n",
        "for l in usable_dataset :\n",
        "    if (l[8] == \"1\") :\n",
        "        has_failed = 0\n",
        "        if (l[9] == \"1\") :\n",
        "            failure_type2_nb[0] += 1\n",
        "            has_failed = 1\n",
        "        if (l[10] == \"1\") :\n",
        "            failure_type2_nb[1] += 1\n",
        "            has_failed = 1\n",
        "        if (l[11] == \"1\") :\n",
        "            failure_type2_nb[2] += 1\n",
        "            has_failed = 1\n",
        "        if (l[12] == \"1\") :\n",
        "            failure_type2_nb[3] += 1\n",
        "            has_failed = 1\n",
        "        if (l[13] == \"1\") :\n",
        "            failure_type2_nb[4] += 1\n",
        "            has_failed = 1\n",
        "        if (has_failed == 0) :\n",
        "            failure_type2_nb[5] += 1\n",
        "\n",
        "plt.figure(2)\n",
        "plt.bar(failure_type2, failure_type2_nb)\n",
        "plt.title('Distribution of machine failure types amongst failed machines')\n",
        "plt.xlabel('Failure type')\n",
        "plt.ylabel('Number of failures')\n",
        "for i, value in enumerate(failure_type2_nb):\n",
        "    plt.text(i, value+1, str(value), ha='center')\n",
        "plt.show()"
      ]
    },
    {
      "cell_type": "markdown",
      "metadata": {
        "id": "U6_3vAQCOUGb"
      },
      "source": [
        "**ANALYSIS QUESTION:** What do you obsrve comapred to the previous question ? What can you conclude?"
      ]
    },
    {
      "cell_type": "markdown",
      "metadata": {
        "id": "i-6t7nqlOjMo"
      },
      "source": [
        "_\"Firstly, we observe that there are 18 random failures that did not lead to a machine failure, only 1 did lead to that.  \n",
        "Secondly, there are some \"Non Specific Failures\", but they stay minimal compared to the specific failures.\"_"
      ]
    },
    {
      "cell_type": "markdown",
      "metadata": {
        "id": "muXeS0eVVW6H"
      },
      "source": [
        "**QUESTION:** Display the names of the different columns in the dataset with their respective data types."
      ]
    },
    {
      "cell_type": "code",
      "execution_count": 7,
      "metadata": {
        "id": "pa9Tptu7nPMp"
      },
      "outputs": [
        {
          "name": "stdout",
          "output_type": "stream",
          "text": [
            "['UDI', 'Product ID', 'Type', 'Air temperature [K]', 'Process temperature [K]', 'Rotational speed [rpm]', 'Torque [Nm]', 'Tool wear [min]', 'Machine failure', 'TWF', 'HDF', 'PWF', 'OSF', 'RNF']\n"
          ]
        }
      ],
      "source": [
        "print(Data_names)"
      ]
    },
    {
      "cell_type": "markdown",
      "metadata": {
        "id": "cezua1bMVTCM"
      },
      "source": [
        "**ANALYSIS QUESTION:** To train the model, what will be the inputs and outputs (What are the names of the columns that you will use?)? Justify your response.\n",
        "Remember, you want to predict if the machine will fail, and if so, what kind of failure. You need to use previous results to justify your response."
      ]
    },
    {
      "cell_type": "markdown",
      "metadata": {
        "id": "0gy8oDgxbjol"
      },
      "source": [
        "_\"As inputs, we will use the following parameters :\"_\n",
        "   - Type\n",
        "   - Air temperature [K]  \n",
        "   - Process temperature [K]  \n",
        "   - Rotational speed [rpm] \n",
        "   - Torque [Nm]  \n",
        "   - Tool wear [min]  \n",
        "\n",
        "_These are the variables that are susceptible to cause a failure, or influence in which way it can occurs as we've seen with the bar graphs that indicated use the main cause of failures._  \n",
        "_\"As for the outputs, we will need the following :\"_ \n",
        "   - Machine working  \n",
        "   - TWF\n",
        "   - HDF\n",
        "   - PWF\n",
        "   - OSF  \n",
        "\n",
        "_We cannot predict random failures, so we do not include it in the outputs, but we still need to know if the machine failed and what kind of failure caused it. The random failures being very sparse, and mainly not causing a machine failure, we do not need to worry about it. Additionnaly, we try to predict the fact that a machine is working in the first label, instead of looking for a failure, because if we have a specific failure, we automaticaly have a failure._  "
      ]
    },
    {
      "cell_type": "markdown",
      "metadata": {
        "id": "CFXLkBzTiafx"
      },
      "source": [
        "## **2- Train model Without balancing the dataset**\n",
        "\n",
        "---\n",
        "\n"
      ]
    },
    {
      "cell_type": "markdown",
      "metadata": {
        "id": "plBeUOCKvVNU"
      },
      "source": [
        "In this section, you must build and train a model without rebalancing the dataset."
      ]
    },
    {
      "cell_type": "markdown",
      "metadata": {
        "id": "yj7CMqdVbxg2"
      },
      "source": [
        "**QUESTION:** Create X_train, Y_train, X_test, and Y_test. How many elements are present in X_train, Y_train, X_test, and Y_test? (Print the values)"
      ]
    },
    {
      "cell_type": "code",
      "execution_count": 12,
      "metadata": {
        "id": "Wdght-L8wQQQ"
      },
      "outputs": [
        {
          "name": "stdout",
          "output_type": "stream",
          "text": [
            "Shape of the training dataset. X :  (7000, 6)  , Y :  (7000, 5)\n",
            "Shape of the validation dataset. X :  (1500, 6)  , Y :  (1500, 5)\n",
            "Shape of the test dataset. X :  (1500, 6)  , Y :  (1500, 5)\n"
          ]
        }
      ],
      "source": [
        "X = []\n",
        "Y = []\n",
        "\n",
        "for l in usable_dataset :\n",
        "    if (l[2] == \"M\") : a = 0\n",
        "    elif (l[2] == \"L\") : a = 1\n",
        "    else : a = 2\n",
        "    A = [a, float(l[3]), float(l[4]), float(l[5]), float(l[6]), float(l[7])]\n",
        "    X.append(A)\n",
        "    B = [abs(1.0-float(l[8])), float(l[9]) ,float(l[10]) ,float(l[11]), float(l[12])]\n",
        "    Y.append(B)\n",
        "\n",
        "X_train, X_temporary, Y_train, Y_temporary = train_test_split(X, Y, test_size=0.3)\n",
        "X_val, X_test, Y_val, Y_test = train_test_split(X_temporary, Y_temporary, test_size=0.5)\n",
        "\n",
        "print(\"Shape of the training dataset. X : \", np.shape(X_train), \" , Y : \", np.shape(Y_train))\n",
        "print(\"Shape of the validation dataset. X : \", np.shape(X_val), \" , Y : \", np.shape(Y_val))\n",
        "print(\"Shape of the test dataset. X : \", np.shape(X_test), \" , Y : \", np.shape(Y_test))"
      ]
    },
    {
      "cell_type": "markdown",
      "metadata": {
        "id": "eqBuZsqKdQ7u"
      },
      "source": [
        "**QUESTION** Code below the model architecture"
      ]
    },
    {
      "cell_type": "code",
      "execution_count": 9,
      "metadata": {
        "id": "F35j0VRDdNLc"
      },
      "outputs": [
        {
          "name": "stdout",
          "output_type": "stream",
          "text": [
            "Model: \"my_mlp_model\"\n",
            "_________________________________________________________________\n",
            " Layer (type)                Output Shape              Param #   \n",
            "=================================================================\n",
            " input_1 (InputLayer)        [(None, 6)]               0         \n",
            "                                                                 \n",
            " dense (Dense)               (None, 20)                140       \n",
            "                                                                 \n",
            " dense_1 (Dense)             (None, 10)                210       \n",
            "                                                                 \n",
            " dense_2 (Dense)             (None, 10)                110       \n",
            "                                                                 \n",
            " dense_3 (Dense)             (None, 5)                 55        \n",
            "                                                                 \n",
            "=================================================================\n",
            "Total params: 515 (2.01 KB)\n",
            "Trainable params: 515 (2.01 KB)\n",
            "Non-trainable params: 0 (0.00 Byte)\n",
            "_________________________________________________________________\n"
          ]
        }
      ],
      "source": [
        "def display_training_curves(training_history):\n",
        "  # display loss\n",
        "  plt.plot(training_history.history['loss'],label='loss')\n",
        "  plt.plot(training_history.history['val_loss'], label='val_loss')\n",
        "  plt.xlabel(\"epoch\")\n",
        "  plt.legend(bbox_to_anchor=(1.05, 1), loc=2)\n",
        "  plt.show()\n",
        "  #display accuracy\n",
        "  plt.plot(training_history.history['accuracy'],label='acc')\n",
        "  plt.plot(training_history.history['val_accuracy'], label='val_acc')\n",
        "  plt.xlabel(\"epoch\")\n",
        "  plt.legend(bbox_to_anchor=(1.05, 1), loc=2)\n",
        "  plt.show()\n",
        "\n",
        "# (1) DEFINE THE ARCHITECTURE OF MY MODEL\n",
        "#first, I define all the layers and the way they are connected\n",
        "inputs = tf.keras.Input(6) #my input layer\n",
        "x = tf.keras.layers.Dense(20, activation='tanh')(inputs) #a first hidden layer with 20 neurons\n",
        "x = tf.keras.layers.Dense(10, activation='tanh')(x) #a first hidden layer with 20 neurons\n",
        "x = tf.keras.layers.Dense(10, activation='tanh')(x) #a first hidden layer with 20 neurons\n",
        "outputs = tf.keras.layers.Dense(5, activation='softmax')(x) # my output layer, with 4 neurons (instead of the 10 originaly stated), for the 4 classes\n",
        "#Then, I define my model with the input layer, the output layer and a name\n",
        "my_mlp_model = tf.keras.Model(inputs=inputs, outputs=outputs, name=\"my_mlp_model\")\n",
        "\n",
        "#PRINT A SUMMARY OF THE ARCHITECTURE OF MY MODEL WITH THE NUMBER OF TRAINABLE PARAMETERS\n",
        "my_mlp_model.summary()\n",
        "\n",
        "# (2) DEFINE THE TRAINING HYPER-PARAMETERS WITH THE \"COMPILE\" METHOD:\n",
        "'''\n",
        "(1) Set the \"optimizer\" [pick 'adam', 'sgd' or 'rmsprop']\n",
        "(2) Set the loss [cf. lesson #3, we pick the categorical cross-entropy]\n",
        "(3) Set the final performance metric to evaluate the model\n",
        "'''\n",
        "\n",
        "my_mlp_model.compile(optimizer='adam', loss='categorical_crossentropy', metrics=['accuracy'])"
      ]
    },
    {
      "cell_type": "markdown",
      "metadata": {
        "id": "dIONoP2Jdg8Q"
      },
      "source": [
        "**QUESTION** Code below the algorithms allowing to train model\n",
        "\n",
        "**WARNING!** You need to plot the training and test accuracy and loss to check if our model is overfitting"
      ]
    },
    {
      "cell_type": "code",
      "execution_count": 10,
      "metadata": {
        "id": "jJ2bYxZydhW2"
      },
      "outputs": [
        {
          "name": "stdout",
          "output_type": "stream",
          "text": [
            "Epoch 1/20\n",
            "70/70 [==============================] - 1s 4ms/step - loss: 0.8280 - accuracy: 0.8517 - val_loss: 0.3261 - val_accuracy: 0.9667\n",
            "Epoch 2/20\n",
            "70/70 [==============================] - 0s 2ms/step - loss: 0.2465 - accuracy: 0.9676 - val_loss: 0.2265 - val_accuracy: 0.9667\n",
            "Epoch 3/20\n",
            "70/70 [==============================] - 0s 2ms/step - loss: 0.2081 - accuracy: 0.9676 - val_loss: 0.2145 - val_accuracy: 0.9667\n",
            "Epoch 4/20\n",
            "70/70 [==============================] - 0s 2ms/step - loss: 0.2010 - accuracy: 0.9676 - val_loss: 0.2110 - val_accuracy: 0.9667\n",
            "Epoch 5/20\n",
            "70/70 [==============================] - 0s 2ms/step - loss: 0.1984 - accuracy: 0.9676 - val_loss: 0.2094 - val_accuracy: 0.9667\n",
            "Epoch 6/20\n",
            "70/70 [==============================] - 0s 2ms/step - loss: 0.1974 - accuracy: 0.9676 - val_loss: 0.2082 - val_accuracy: 0.9667\n",
            "Epoch 7/20\n",
            "70/70 [==============================] - 0s 2ms/step - loss: 0.1966 - accuracy: 0.9676 - val_loss: 0.2076 - val_accuracy: 0.9667\n",
            "Epoch 8/20\n",
            "70/70 [==============================] - 0s 2ms/step - loss: 0.1963 - accuracy: 0.9676 - val_loss: 0.2072 - val_accuracy: 0.9667\n",
            "Epoch 9/20\n",
            "70/70 [==============================] - 0s 2ms/step - loss: 0.1958 - accuracy: 0.9676 - val_loss: 0.2069 - val_accuracy: 0.9667\n",
            "Epoch 10/20\n",
            "70/70 [==============================] - 0s 2ms/step - loss: 0.1959 - accuracy: 0.9676 - val_loss: 0.2065 - val_accuracy: 0.9667\n",
            "Epoch 11/20\n",
            "70/70 [==============================] - 0s 2ms/step - loss: 0.1955 - accuracy: 0.9676 - val_loss: 0.2066 - val_accuracy: 0.9667\n",
            "Epoch 12/20\n",
            "70/70 [==============================] - 0s 2ms/step - loss: 0.1952 - accuracy: 0.9676 - val_loss: 0.2061 - val_accuracy: 0.9667\n",
            "Epoch 13/20\n",
            "70/70 [==============================] - 0s 2ms/step - loss: 0.1951 - accuracy: 0.9676 - val_loss: 0.2058 - val_accuracy: 0.9667\n",
            "Epoch 14/20\n",
            "70/70 [==============================] - 0s 2ms/step - loss: 0.1952 - accuracy: 0.9676 - val_loss: 0.2100 - val_accuracy: 0.9667\n",
            "Epoch 15/20\n",
            "70/70 [==============================] - 0s 2ms/step - loss: 0.1971 - accuracy: 0.9676 - val_loss: 0.2065 - val_accuracy: 0.9667\n",
            "Epoch 16/20\n",
            "70/70 [==============================] - 0s 2ms/step - loss: 0.1950 - accuracy: 0.9676 - val_loss: 0.2061 - val_accuracy: 0.9667\n",
            "Epoch 17/20\n",
            "70/70 [==============================] - 0s 2ms/step - loss: 0.1946 - accuracy: 0.9676 - val_loss: 0.2054 - val_accuracy: 0.9667\n",
            "Epoch 18/20\n",
            "70/70 [==============================] - 0s 2ms/step - loss: 0.1945 - accuracy: 0.9676 - val_loss: 0.2057 - val_accuracy: 0.9667\n",
            "Epoch 19/20\n",
            "70/70 [==============================] - 0s 2ms/step - loss: 0.1952 - accuracy: 0.9676 - val_loss: 0.2104 - val_accuracy: 0.9667\n",
            "Epoch 20/20\n",
            "70/70 [==============================] - 0s 2ms/step - loss: 0.1961 - accuracy: 0.9676 - val_loss: 0.2062 - val_accuracy: 0.9667\n",
            "70/70 [==============================] - 0s 716us/step - loss: 0.1942 - accuracy: 0.9676\n",
            "15/15 [==============================] - 0s 856us/step - loss: 0.2121 - accuracy: 0.9647\n",
            "Performance on the TRAIN set, ACCURACY= 0.9675714373588562\n",
            "Performance on the TEST set, ACCURACY= 0.9646666646003723\n"
          ]
        },
        {
          "data": {
            "image/png": "[encoded data removed]",
            "text/plain": [
              "<Figure size 640x480 with 1 Axes>"
            ]
          },
          "metadata": {},
          "output_type": "display_data"
        },
        {
          "data": {
            "image/png": "[encoded data removed]",
            "text/plain": [
              "<Figure size 640x480 with 1 Axes>"
            ]
          },
          "metadata": {},
          "output_type": "display_data"
        }
      ],
      "source": [
        "# (3) NOW, LET'S TRAIN ON MY DATA WITH THE \"FIT\" METHOD\n",
        "'''\n",
        "(1) Set the number of epochs\n",
        "(2) Set the size of the (mini)batch\n",
        "(3) Set the training dataset ==> here, X_train with Y_train\n",
        "(4) Set the validation dataset (X_val, Y_val)\n",
        "'''\n",
        "nb_epochs=20\n",
        "batch_size=100\n",
        "training_history = my_mlp_model.fit(X_train,Y_train,\n",
        "                                    validation_data=(X_val, Y_val),\n",
        "                                    epochs=nb_epochs,\n",
        "                                    batch_size=batch_size)\n",
        "\n",
        "#COMPUTE THE ACCURACY ON THE TRAINING AND TEST SETS\n",
        "loss_train, acc_train = my_mlp_model.evaluate(X_train, Y_train, batch_size=batch_size)\n",
        "loss_test, acc_test = my_mlp_model.evaluate(X_test, Y_test, batch_size=batch_size)\n",
        "\n",
        "print(\"Performance on the TRAIN set, ACCURACY=\",acc_train)\n",
        "print(\"Performance on the TEST set, ACCURACY=\",acc_test)\n",
        "\n",
        "display_training_curves(training_history)"
      ]
    },
    {
      "cell_type": "markdown",
      "metadata": {
        "id": "yvmyHnqYpbf-"
      },
      "source": [
        "**QUESTION** Plot the confusion matrix and the classification report"
      ]
    },
    {
      "cell_type": "markdown",
      "metadata": {
        "id": "FUXSeJ1ZpsSP"
      },
      "source": [
        "**Tips:**\n",
        "\n",
        "*   classification report link\n",
        "\n",
        "> https://scikit-learn.org/stable/modules/generated/sklearn.metrics.classification_report.html\n",
        "\n",
        "*   Matrix confusion\n",
        "\n",
        "> https://scikit-learn.org/stable/modules/generated/sklearn.metrics.ConfusionMatrixDisplay.html\n",
        "\n",
        "\n",
        "\n"
      ]
    },
    {
      "cell_type": "code",
      "execution_count": 14,
      "metadata": {
        "id": "m4q5wvHNnAdu"
      },
      "outputs": [
        {
          "name": "stdout",
          "output_type": "stream",
          "text": [
            "47/47 [==============================] - 0s 900us/step\n",
            "Classification report for classifier my_cnn_model:\n",
            "              precision    recall  f1-score   support\n",
            "\n",
            "  No Failure       0.96      1.00      0.98      1445\n",
            "         TWF       0.00      0.00      0.00         8\n",
            "         HDF       0.00      0.00      0.00        13\n",
            "         PWF       0.00      0.00      0.00        22\n",
            "         OSF       0.00      0.00      0.00        12\n",
            "\n",
            "   micro avg       0.96      0.96      0.96      1500\n",
            "   macro avg       0.19      0.20      0.20      1500\n",
            "weighted avg       0.93      0.96      0.95      1500\n",
            " samples avg       0.96      0.96      0.96      1500\n",
            "\n",
            "\n"
          ]
        },
        {
          "name": "stderr",
          "output_type": "stream",
          "text": [
            "C:\\Users\\kevin\\AppData\\Local\\Packages\\PythonSoftwareFoundation.Python.3.11_qbz5n2kfra8p0\\LocalCache\\local-packages\\Python311\\site-packages\\sklearn\\metrics\\_classification.py:1531: UndefinedMetricWarning: Precision is ill-defined and being set to 0.0 in labels with no predicted samples. Use `zero_division` parameter to control this behavior.\n",
            "  _warn_prf(average, modifier, f\"{metric.capitalize()} is\", len(result))\n"
          ]
        },
        {
          "data": {
            "text/plain": [
              "<sklearn.metrics._plot.confusion_matrix.ConfusionMatrixDisplay at 0x16f6d465ed0>"
            ]
          },
          "execution_count": 14,
          "metadata": {},
          "output_type": "execute_result"
        },
        {
          "data": {
            "image/png": "[encoded data removed]",
            "text/plain": [
              "<Figure size 640x480 with 2 Axes>"
            ]
          },
          "metadata": {},
          "output_type": "display_data"
        }
      ],
      "source": [
        "Y_pred_temp = my_mlp_model.predict(X_test)\n",
        "\n",
        "Y_pred = np.zeros_like(Y_pred_temp)\n",
        "Y_pred[np.arange(Y_pred_temp.shape[0]), np.argmax(Y_pred_temp, axis=1)] = 1\n",
        "\n",
        "\n",
        "Y_test_bin  = np.zeros_like(Y_test)\n",
        "Y_test_bin[np.arange(len(Y_test)), np.argmax(Y_test, axis=1)] = 1\n",
        "\n",
        "class_names = [\"No Failure\", \"TWF\", \"HDF\", \"PWF\", \"OSF\"]\n",
        "\n",
        "print(\n",
        "    f\"Classification report for classifier my_cnn_model:\\n\"\n",
        "    f\"{classification_report(Y_test_bin, Y_pred, target_names=class_names)}\\n\"\n",
        ")\n",
        "\n",
        "cm = confusion_matrix(Y_test_bin.argmax(axis=1), Y_pred.argmax(axis=1))\n",
        "cm_display = ConfusionMatrixDisplay(confusion_matrix=cm)\n",
        "cm_display.plot()"
      ]
    },
    {
      "cell_type": "markdown",
      "metadata": {
        "id": "ImGsmryGkKhj"
      },
      "source": [
        "**ANALYSIS QUESTION** What do you observe? What can you conclude?"
      ]
    },
    {
      "cell_type": "markdown",
      "metadata": {
        "id": "y1f5OneQknZy"
      },
      "source": [
        "_Our model is_"
      ]
    },
    {
      "cell_type": "markdown",
      "metadata": {
        "id": "EYUyUAN5ji0x"
      },
      "source": [
        "## **3- Train model With balancing the dataset**\n",
        "\n",
        "---"
      ]
    },
    {
      "cell_type": "markdown",
      "metadata": {
        "id": "EQWut50JhKdD"
      },
      "source": [
        " Methods for rebalancing a dataset:\n",
        "\n",
        "\n",
        "*   Use oversampling techniques (e.g., SMOTE) to generate synthetic data for minority classes\n",
        "\n",
        "\n",
        "> https://imbalanced-learn.org/stable/references/generated/imblearn.over_sampling.SMOTE.html\n",
        "\n",
        "\n",
        "\n",
        "*   Apply undersampling techniques (e.g., random undersampling, Tomek Links, Edited Nearest Neighbors) to reduce the majority class size\n",
        "\n",
        "\n",
        "\n",
        "> https://imbalanced-learn.org/stable/references/generated/imblearn.under_sampling.RandomUnderSampler.html\n",
        "\n",
        "\n",
        "\n",
        "*   Use class weighting during model training to penalize errors on minority classes\n",
        "\n",
        "\n",
        "\n",
        "> https://www.tensorflow.org/tutorials/structured_data/imbalanced_data?hl=fr\n"
      ]
    },
    {
      "cell_type": "markdown",
      "metadata": {
        "id": "--pWJzaUnXdY"
      },
      "source": [
        "**QUESTION:** Create X_train, Y_train, X_test, and Y_test. How many elements are present in X_train, Y_train, X_test, and Y_test? (Print the values)"
      ]
    },
    {
      "cell_type": "code",
      "execution_count": null,
      "metadata": {
        "id": "aLW74cwbdr1U"
      },
      "outputs": [],
      "source": []
    },
    {
      "cell_type": "markdown",
      "metadata": {
        "id": "-YcZXIadnbcm"
      },
      "source": [
        "**ANALYSIS QUESTION:** Explain the choices you made to balance the dataset."
      ]
    },
    {
      "cell_type": "markdown",
      "metadata": {
        "id": "Rku3pnWxnxhI"
      },
      "source": [
        "\"Write your response here\""
      ]
    },
    {
      "cell_type": "markdown",
      "metadata": {
        "id": "BVryPCQFn4Dd"
      },
      "source": [
        "**QUESTION:** Code below the model architecture\n"
      ]
    },
    {
      "cell_type": "markdown",
      "metadata": {
        "id": "Q5BGfI7TpVDD"
      },
      "source": [
        "**TIP:** It could be interesting to keep it the same as before"
      ]
    },
    {
      "cell_type": "code",
      "execution_count": null,
      "metadata": {
        "id": "S0UbMHN6OC51"
      },
      "outputs": [],
      "source": []
    },
    {
      "cell_type": "markdown",
      "metadata": {
        "id": "wBZyS7DdofFq"
      },
      "source": [
        "**QUESTION** Code below the algorithms allowing to train model\n"
      ]
    },
    {
      "cell_type": "code",
      "execution_count": null,
      "metadata": {
        "id": "my6Ck5JbMDOG"
      },
      "outputs": [],
      "source": []
    },
    {
      "cell_type": "markdown",
      "metadata": {
        "id": "77ftkfv5oqp0"
      },
      "source": [
        "**QUESTION** Plot the confusion matrix and the classification report"
      ]
    },
    {
      "cell_type": "code",
      "execution_count": null,
      "metadata": {
        "id": "kRmkOI_co5d9"
      },
      "outputs": [],
      "source": []
    },
    {
      "cell_type": "markdown",
      "metadata": {
        "id": "Zn5BBAI3pHXf"
      },
      "source": [
        "**ANALYSIS QUESTION** What do you observe? What can you conclude?"
      ]
    },
    {
      "cell_type": "markdown",
      "metadata": {
        "id": "SIf8rfU9pIGd"
      },
      "source": [
        "\"Write your response here\""
      ]
    }
  ],
  "metadata": {
    "colab": {
      "provenance": []
    },
    "kernelspec": {
      "display_name": "Python 3",
      "name": "python3"
    },
    "language_info": {
      "codemirror_mode": {
        "name": "ipython",
        "version": 3
      },
      "file_extension": ".py",
      "mimetype": "text/x-python",
      "name": "python",
      "nbconvert_exporter": "python",
      "pygments_lexer": "ipython3",
      "version": "3.11.9"
    }
  },
  "nbformat": 4,
  "nbformat_minor": 0
}
